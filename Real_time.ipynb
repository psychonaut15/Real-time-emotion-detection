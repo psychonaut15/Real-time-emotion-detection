{
 "cells": [
  {
   "cell_type": "code",
   "execution_count": 6,
   "id": "ae9ceca3",
   "metadata": {},
   "outputs": [],
   "source": [
    "import cv2 \n",
    "from deepface import DeepFace  \n",
    "\n",
    "faceCascade = cv2.CascadeClassifier(cv2.data.haarcascades + 'haarcascade_frontalface_default.xml')\n",
    "\n",
    "cap = cv2.VideoCapture(1)\n",
    "if not cap.isOpened():\n",
    "    cap = cv2.VideoCapture(0)\n",
    "if not cap.isOpened():\n",
    "    raise IOError(\"Cannot open webcam\")\n",
    "    \n",
    "while True:\n",
    "    ret,frame = cap.read()\n",
    "    enforce_detection =False\n",
    "    result = DeepFace.analyze(frame,  actions=['emotion'], enforce_detection=False)\n",
    "    \n",
    "    gray = cv2.cvtColor(frame, cv2.COLOR_BGR2GRAY)  \n",
    "    faces = faceCascade.detectMultiScale(gray,1.1,4)\n",
    "    \n",
    "    for(x, y, w, h) in faces:\n",
    "        cv2.rectangle(frame, (x, y), (x+w, y+h), (0,255,0), 2)  \n",
    "    \n",
    "    cv2.putText(frame,\n",
    "               result[0]['dominant_emotion'].upper(),\n",
    "               (50, 100),   \n",
    "               cv2.FONT_HERSHEY_SIMPLEX, 3,\n",
    "               (0, 0, 255),\n",
    "               2,\n",
    "               cv2.LINE_4)\n",
    "    cv2.imshow('Demo video',frame)\n",
    "    \n",
    "    if cv2.waitKey(4) & 0xFF == ord('q'):\n",
    "        break\n",
    "\n",
    "cap.release()\n",
    "cv2.destroyAllWindows()"
   ]
  },
  {
   "cell_type": "code",
   "execution_count": null,
   "id": "4d8ae203",
   "metadata": {},
   "outputs": [],
   "source": []
  },
  {
   "cell_type": "code",
   "execution_count": null,
   "id": "f2b97cbf",
   "metadata": {},
   "outputs": [],
   "source": []
  }
 ],
 "metadata": {
  "kernelspec": {
   "display_name": "Python 3 (ipykernel)",
   "language": "python",
   "name": "python3"
  },
  "language_info": {
   "codemirror_mode": {
    "name": "ipython",
    "version": 3
   },
   "file_extension": ".py",
   "mimetype": "text/x-python",
   "name": "python",
   "nbconvert_exporter": "python",
   "pygments_lexer": "ipython3",
   "version": "3.11.5"
  }
 },
 "nbformat": 4,
 "nbformat_minor": 5
}
